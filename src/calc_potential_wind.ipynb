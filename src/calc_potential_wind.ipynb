{
 "metadata": {
  "name": "",
  "signature": "sha256:1447af449826d95fa45799aee06dc696ef4ea8330892ad7e7c084009b7c00e23"
 },
 "nbformat": 3,
 "nbformat_minor": 0,
 "worksheets": [
  {
   "cells": [
    {
     "cell_type": "code",
     "collapsed": false,
     "input": [
      "from preprocess import cwb_preproc\n",
      "import potential_wind as pw\n",
      "import pandas as pd\n",
      "import numpy as np"
     ],
     "language": "python",
     "metadata": {},
     "outputs": [],
     "prompt_number": 1
    },
    {
     "cell_type": "code",
     "collapsed": false,
     "input": [
      "# initialization\n",
      "pws = pw.ws_array()\n",
      "pws_orig = pw.ws()\n",
      "cwb = cwb_preproc()"
     ],
     "language": "python",
     "metadata": {},
     "outputs": [],
     "prompt_number": 2
    },
    {
     "cell_type": "code",
     "collapsed": false,
     "input": [
      "%time dataf = cwb.fread('data/type_a/CWB_A1_C0A510.txt', ctype='a1'); pws.psatw(dataf, 'tx01')"
     ],
     "language": "python",
     "metadata": {},
     "outputs": []
    },
    {
     "cell_type": "code",
     "collapsed": false,
     "input": [
      "%time o = pws.psatw(dataf, 'tx01')"
     ],
     "language": "python",
     "metadata": {},
     "outputs": []
    },
    {
     "cell_type": "code",
     "collapsed": false,
     "input": [
      "idx_t = dataf[(dataf['tx01']+273.15 < 300.096)].index\n",
      "len(idx_t)\n",
      "#dataf['densold'] = pd.DataFrame([100.0]*len(idx_t), index=idx_t)"
     ],
     "language": "python",
     "metadata": {},
     "outputs": []
    },
    {
     "cell_type": "code",
     "collapsed": false,
     "input": [
      "def update_densold(i):\n",
      "    if i in list(idx_t):\n",
      "        return(100.0)\n",
      "    else:\n",
      "        return(600.0)\n",
      "list_idx = (1,3,5,7,9)"
     ],
     "language": "python",
     "metadata": {},
     "outputs": []
    },
    {
     "cell_type": "code",
     "collapsed": false,
     "input": [
      "for i in list_idx:\n",
      "    dataf['densold'][i] = 100.0"
     ],
     "language": "python",
     "metadata": {},
     "outputs": []
    },
    {
     "cell_type": "code",
     "collapsed": false,
     "input": [
      "df = dataf[['psatw','tx01','wd01']][0:30]"
     ],
     "language": "python",
     "metadata": {},
     "outputs": []
    },
    {
     "cell_type": "code",
     "collapsed": false,
     "input": [
      "dataf1[ (dataf1<0) ].index"
     ],
     "language": "python",
     "metadata": {},
     "outputs": []
    },
    {
     "cell_type": "code",
     "collapsed": false,
     "input": [
      "df = pd.DataFrame(np.random.randn(20)*100, columns=['random'])"
     ],
     "language": "python",
     "metadata": {},
     "outputs": []
    },
    {
     "cell_type": "code",
     "collapsed": false,
     "input": [
      "df['random'] = pd.DataFrame(np.random.randn(20)*100, columns=['random'])\n",
      "df['converg'] = np.nan"
     ],
     "language": "python",
     "metadata": {},
     "outputs": []
    },
    {
     "cell_type": "code",
     "collapsed": false,
     "input": [
      "for i in range(0,100):\n",
      "    df['random'] = pd.DataFrame(np.random.randn(20)*100, columns=['random'])\n",
      "    df['converg'][df['random'] == 15] = 1\n",
      "    idx = df['converg'][df['converg'] != 1].index\n",
      "    if len(idx) > 0:\n",
      "        df['random'] = pd.DataFrame(np.random.randn(len(idx)), index=idx.tolist())\n",
      "    else:\n",
      "        print(i)"
     ],
     "language": "python",
     "metadata": {},
     "outputs": []
    },
    {
     "cell_type": "code",
     "collapsed": false,
     "input": [
      "df['new'] = np.nan"
     ],
     "language": "python",
     "metadata": {},
     "outputs": []
    },
    {
     "cell_type": "code",
     "collapsed": false,
     "input": [
      "df['new'] = df['wd01'][(df['tx01'] > 15)]"
     ],
     "language": "python",
     "metadata": {},
     "outputs": []
    },
    {
     "cell_type": "code",
     "collapsed": false,
     "input": [
      "pws_orig.__densreg3__(628, 175.32)"
     ],
     "language": "python",
     "metadata": {},
     "outputs": []
    },
    {
     "cell_type": "code",
     "collapsed": false,
     "input": [
      "pws_orig.psatw(628)-1e-05"
     ],
     "language": "python",
     "metadata": {},
     "outputs": []
    },
    {
     "cell_type": "code",
     "collapsed": false,
     "input": [
      "pws_orig.calc_pw(tx=283.15, ps=1000.6, rh=86, wd=2)"
     ],
     "language": "python",
     "metadata": {},
     "outputs": [
      {
       "metadata": {},
       "output_type": "pyout",
       "prompt_number": 3,
       "text": [
        "(1.2, 42.38665324033601)"
       ]
      }
     ],
     "prompt_number": 3
    },
    {
     "cell_type": "code",
     "collapsed": false,
     "input": [
      "for i in df['tx01']+273.15:\n",
      "    print(pws_orig.dens_sat_vaptw(i))"
     ],
     "language": "python",
     "metadata": {},
     "outputs": []
    },
    {
     "cell_type": "code",
     "collapsed": false,
     "input": [
      "df['psatw']"
     ],
     "language": "python",
     "metadata": {},
     "outputs": []
    },
    {
     "cell_type": "code",
     "collapsed": false,
     "input": [],
     "language": "python",
     "metadata": {},
     "outputs": []
    }
   ],
   "metadata": {}
  }
 ]
}