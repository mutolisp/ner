{
 "metadata": {
  "name": "",
  "signature": "sha256:eb6d2e9b39355918dc59292cc326b1435220ba7476da813fca743b5f079dfa1b"
 },
 "nbformat": 3,
 "nbformat_minor": 0,
 "worksheets": [
  {
   "cells": [
    {
     "cell_type": "code",
     "collapsed": false,
     "input": [
      "from preprocess import cwb_preproc\n",
      "import potential_wind as pw\n",
      "import pandas as pd\n",
      "import numpy as np"
     ],
     "language": "python",
     "metadata": {},
     "outputs": [],
     "prompt_number": 38
    },
    {
     "cell_type": "code",
     "collapsed": false,
     "input": [
      "# initialization\n",
      "pws = pw.ws_array()\n",
      "pws_orig = pw.ws()\n",
      "cwb = cwb_preproc()"
     ],
     "language": "python",
     "metadata": {},
     "outputs": [],
     "prompt_number": 39
    },
    {
     "cell_type": "code",
     "collapsed": false,
     "input": [
      "%time dataf = cwb.fread('data/type_a/CWB_A1_C0A510.txt', ctype='a1'); pws.psatw(dataf, 'tx01')"
     ],
     "language": "python",
     "metadata": {},
     "outputs": [
      {
       "output_type": "stream",
       "stream": "stdout",
       "text": [
        "CPU times: user 1.69 s, sys: 118 ms, total: 1.81 s\n",
        "Wall time: 1.92 s\n"
       ]
      }
     ],
     "prompt_number": 7
    },
    {
     "cell_type": "code",
     "collapsed": false,
     "input": [
      "%time o = pws.psatw(dataf, 'tx01')"
     ],
     "language": "python",
     "metadata": {},
     "outputs": [
      {
       "output_type": "stream",
       "stream": "stdout",
       "text": [
        "CPU times: user 48.9 ms, sys: 11.1 ms, total: 60 ms\n",
        "Wall time: 76.9 ms\n"
       ]
      }
     ],
     "prompt_number": 8
    },
    {
     "cell_type": "code",
     "collapsed": false,
     "input": [
      "idx_t = dataf[(dataf['tx01']+273.15 < 300.096)].index\n",
      "len(idx_t)\n",
      "#dataf['densold'] = pd.DataFrame([100.0]*len(idx_t), index=idx_t)"
     ],
     "language": "python",
     "metadata": {},
     "outputs": [
      {
       "metadata": {},
       "output_type": "pyout",
       "prompt_number": 63,
       "text": [
        "77558"
       ]
      }
     ],
     "prompt_number": 63
    },
    {
     "cell_type": "code",
     "collapsed": false,
     "input": [
      "def update_densold(i):\n",
      "    if i in list(idx_t):\n",
      "        return(100.0)\n",
      "    else:\n",
      "        return(600.0)\n",
      "list_idx = (1,3,5,7,9)"
     ],
     "language": "python",
     "metadata": {},
     "outputs": [],
     "prompt_number": 71
    },
    {
     "cell_type": "code",
     "collapsed": false,
     "input": [
      "for i in list_idx:\n",
      "    dataf['densold'][i] = 100.0"
     ],
     "language": "python",
     "metadata": {},
     "outputs": [],
     "prompt_number": 78
    },
    {
     "cell_type": "code",
     "collapsed": false,
     "input": [
      "df = dataf[['psatw','tx01','wd01']][0:30]"
     ],
     "language": "python",
     "metadata": {},
     "outputs": [],
     "prompt_number": 31
    },
    {
     "cell_type": "code",
     "collapsed": false,
     "input": [
      "dataf1[ (dataf1<0) ].index"
     ],
     "language": "python",
     "metadata": {},
     "outputs": [
      {
       "metadata": {},
       "output_type": "pyout",
       "prompt_number": 96,
       "text": [
        "Int64Index([9], dtype='int64')"
       ]
      }
     ],
     "prompt_number": 96
    },
    {
     "cell_type": "code",
     "collapsed": false,
     "input": [
      "df = pd.DataFrame(np.random.randn(20)*100, columns=['random'])"
     ],
     "language": "python",
     "metadata": {},
     "outputs": [],
     "prompt_number": 21
    },
    {
     "cell_type": "code",
     "collapsed": false,
     "input": [
      "df['random'] = pd.DataFrame(np.random.randn(20)*100, columns=['random'])\n",
      "df['converg'] = np.nan"
     ],
     "language": "python",
     "metadata": {},
     "outputs": [],
     "prompt_number": 22
    },
    {
     "cell_type": "code",
     "collapsed": false,
     "input": [
      "for i in range(0,100):\n",
      "    df['random'] = pd.DataFrame(np.random.randn(20)*100, columns=['random'])\n",
      "    df['converg'][df['random'] == 15] = 1\n",
      "    idx = df['converg'][df['converg'] != 1].index\n",
      "    if len(idx) > 0:\n",
      "        df['random'] = pd.DataFrame(np.random.randn(len(idx)), index=idx.tolist())\n",
      "    else:\n",
      "        print(i)"
     ],
     "language": "python",
     "metadata": {},
     "outputs": [],
     "prompt_number": 23
    },
    {
     "cell_type": "code",
     "collapsed": false,
     "input": [
      "df['new'] = np.nan"
     ],
     "language": "python",
     "metadata": {},
     "outputs": [],
     "prompt_number": 33
    },
    {
     "cell_type": "code",
     "collapsed": false,
     "input": [
      "df['new'] = df['wd01'][(df['tx01'] > 15)]"
     ],
     "language": "python",
     "metadata": {},
     "outputs": [],
     "prompt_number": 35
    },
    {
     "cell_type": "code",
     "collapsed": false,
     "input": [
      "pws_orig.__densreg3__(628, 175.32)"
     ],
     "language": "python",
     "metadata": {},
     "outputs": [
      {
       "ename": "IndexError",
       "evalue": "tuple index out of range",
       "output_type": "pyerr",
       "traceback": [
        "\u001b[0;31m---------------------------------------------------------------------------\u001b[0m\n\u001b[0;31mIndexError\u001b[0m                                Traceback (most recent call last)",
        "\u001b[0;32m<ipython-input-47-a0670abecb65>\u001b[0m in \u001b[0;36m<module>\u001b[0;34m()\u001b[0m\n\u001b[0;32m----> 1\u001b[0;31m \u001b[0mpws_orig\u001b[0m\u001b[0;34m.\u001b[0m\u001b[0m__densreg3__\u001b[0m\u001b[0;34m(\u001b[0m\u001b[0;36m628\u001b[0m\u001b[0;34m,\u001b[0m \u001b[0;36m175.32\u001b[0m\u001b[0;34m)\u001b[0m\u001b[0;34m\u001b[0m\u001b[0m\n\u001b[0m",
        "\u001b[0;32m/Volumes/Photos2T/projects/2014\u98a8\u80fd\u8a08\u7b97/potential_wind.py\u001b[0m in \u001b[0;36m__densreg3__\u001b[0;34m(self, t, p)\u001b[0m\n\u001b[1;32m    171\u001b[0m         \u001b[0;32mfor\u001b[0m \u001b[0mi\u001b[0m \u001b[0;32min\u001b[0m \u001b[0mrange\u001b[0m\u001b[0;34m(\u001b[0m\u001b[0;36m0\u001b[0m\u001b[0;34m,\u001b[0m\u001b[0;36m1000\u001b[0m\u001b[0;34m)\u001b[0m\u001b[0;34m:\u001b[0m\u001b[0;34m\u001b[0m\u001b[0m\n\u001b[1;32m    172\u001b[0m             \u001b[0mdelta\u001b[0m \u001b[0;34m=\u001b[0m \u001b[0mdensold\u001b[0m \u001b[0;34m/\u001b[0m \u001b[0mself\u001b[0m\u001b[0;34m.\u001b[0m\u001b[0mdc_water\u001b[0m\u001b[0;34m\u001b[0m\u001b[0m\n\u001b[0;32m--> 173\u001b[0;31m             derivprho = rgas_water * t / dc_water * (2 * densold * self.__fideltareg3__(tau, delta) \\\n\u001b[0m\u001b[1;32m    174\u001b[0m                                     + densold ** 2 / dc_water * self.__fideltadeltareg3__(tau, delta))\n\u001b[1;32m    175\u001b[0m             densnew = densold + (p * 100000.0 - rgas_water * t * densold ** 2 / dc_water * \\\n",
        "\u001b[0;32m/Volumes/Photos2T/projects/2014\u98a8\u80fd\u8a08\u7b97/potential_wind.py\u001b[0m in \u001b[0;36m__fideltareg3__\u001b[0;34m(self, tau, delta)\u001b[0m\n\u001b[1;32m    140\u001b[0m         \u001b[0mfideltareg3\u001b[0m \u001b[0;34m=\u001b[0m \u001b[0mnreg3\u001b[0m\u001b[0;34m[\u001b[0m\u001b[0;36m0\u001b[0m\u001b[0;34m]\u001b[0m \u001b[0;34m/\u001b[0m \u001b[0mdelta\u001b[0m\u001b[0;34m\u001b[0m\u001b[0m\n\u001b[1;32m    141\u001b[0m         \u001b[0;32mfor\u001b[0m \u001b[0mi\u001b[0m \u001b[0;32min\u001b[0m \u001b[0mrange\u001b[0m\u001b[0;34m(\u001b[0m\u001b[0;36m2\u001b[0m\u001b[0;34m,\u001b[0m\u001b[0;36m41\u001b[0m\u001b[0;34m)\u001b[0m\u001b[0;34m:\u001b[0m\u001b[0;34m\u001b[0m\u001b[0m\n\u001b[0;32m--> 142\u001b[0;31m             \u001b[0mfideltareg3\u001b[0m \u001b[0;34m=\u001b[0m \u001b[0mfideltareg3\u001b[0m \u001b[0;34m+\u001b[0m \u001b[0mnreg3\u001b[0m\u001b[0;34m[\u001b[0m\u001b[0mi\u001b[0m\u001b[0;34m]\u001b[0m \u001b[0;34m*\u001b[0m \u001b[0mireg3\u001b[0m\u001b[0;34m[\u001b[0m\u001b[0mi\u001b[0m\u001b[0;34m]\u001b[0m \u001b[0;34m*\u001b[0m \u001b[0mdelta\u001b[0m \u001b[0;34m**\u001b[0m \u001b[0;34m(\u001b[0m\u001b[0mireg3\u001b[0m\u001b[0;34m[\u001b[0m\u001b[0mi\u001b[0m\u001b[0;34m]\u001b[0m \u001b[0;34m-\u001b[0m \u001b[0;36m1\u001b[0m\u001b[0;34m)\u001b[0m \u001b[0;34m*\u001b[0m \u001b[0mtau\u001b[0m \u001b[0;34m**\u001b[0m \u001b[0mjreg3\u001b[0m\u001b[0;34m[\u001b[0m\u001b[0mi\u001b[0m\u001b[0;34m]\u001b[0m\u001b[0;34m\u001b[0m\u001b[0m\n\u001b[0m\u001b[1;32m    143\u001b[0m         \u001b[0;32mreturn\u001b[0m\u001b[0;34m(\u001b[0m\u001b[0mfideltareg3\u001b[0m\u001b[0;34m)\u001b[0m\u001b[0;34m\u001b[0m\u001b[0m\n\u001b[1;32m    144\u001b[0m \u001b[0;34m\u001b[0m\u001b[0m\n",
        "\u001b[0;31mIndexError\u001b[0m: tuple index out of range"
       ]
      }
     ],
     "prompt_number": 47
    },
    {
     "cell_type": "code",
     "collapsed": false,
     "input": [
      "pws_orig.psatw(628)-1e-05"
     ],
     "language": "python",
     "metadata": {},
     "outputs": [
      {
       "metadata": {},
       "output_type": "pyout",
       "prompt_number": 45,
       "text": [
        "175.3810580208452"
       ]
      }
     ],
     "prompt_number": 45
    },
    {
     "cell_type": "code",
     "collapsed": false,
     "input": [
      "pws_orig.dens_sat_vaptw(700)"
     ],
     "language": "python",
     "metadata": {},
     "outputs": [
      {
       "output_type": "stream",
       "stream": "stdout",
       "text": [
        "CPU times: user 12 \u00b5s, sys: 1e+03 ns, total: 13 \u00b5s\n",
        "Wall time: 16.9 \u00b5s\n"
       ]
      },
      {
       "metadata": {},
       "output_type": "pyout",
       "prompt_number": 50,
       "text": [
        "-1"
       ]
      }
     ],
     "prompt_number": 50
    },
    {
     "cell_type": "code",
     "collapsed": false,
     "input": [
      "for i in df['tx01']+273.15:\n",
      "    print(pws_orig.dens_sat_vaptw(i))"
     ],
     "language": "python",
     "metadata": {},
     "outputs": [
      {
       "output_type": "stream",
       "stream": "stdout",
       "text": [
        "0.0138937045447\n",
        "0.0137268986332\n",
        "0.0138937045447\n",
        "0.0135618315868\n",
        "0.0137268986332\n",
        "0.0129186512983\n",
        "0.0126843747393\n",
        "0.0127620538953\n",
        "0.0131566725717\n",
        "-1\n",
        "0.0146662599699\n",
        "0.0148429043679\n",
        "0.0144047081355\n",
        "0.0146662599699\n",
        "0.0146662599699\n",
        "0.0141472070955\n",
        "0.0126843747393\n",
        "0.0126843747393\n",
        "0.0116391645994\n",
        "0.0116391645994\n",
        "0.0114251928842\n",
        "0.0116391645994\n",
        "0.0112146470778\n",
        "0.0120775719565\n",
        "0.0116391645994\n",
        "0.0122268593557\n",
        "0.0120035235775\n",
        "0.0114251928842\n",
        "0.0116391645994\n",
        "0.0117837385999\n"
       ]
      }
     ],
     "prompt_number": 58
    },
    {
     "cell_type": "code",
     "collapsed": false,
     "input": [
      "df['psatw']"
     ],
     "language": "python",
     "metadata": {},
     "outputs": [
      {
       "metadata": {},
       "output_type": "pyout",
       "prompt_number": 56,
       "text": [
        "0     0.018539\n",
        "1     0.018304\n",
        "2     0.018539\n",
        "3     0.018072\n",
        "4     0.018304\n",
        "5     0.017168\n",
        "6     0.016839\n",
        "7     0.016948\n",
        "8     0.017502\n",
        "9    -1.000000\n",
        "10    0.019630\n",
        "11    0.019880\n",
        "12    0.019260\n",
        "13    0.019630\n",
        "14    0.019630\n",
        "15    0.018897\n",
        "16    0.016839\n",
        "17    0.016839\n",
        "18    0.015377\n",
        "19    0.015377\n",
        "20    0.015079\n",
        "21    0.015377\n",
        "22    0.014786\n",
        "23    0.015989\n",
        "24    0.015377\n",
        "25    0.016198\n",
        "26    0.015886\n",
        "27    0.015079\n",
        "28    0.015377\n",
        "29    0.015579\n",
        "Name: psatw, dtype: float64"
       ]
      }
     ],
     "prompt_number": 56
    },
    {
     "cell_type": "code",
     "collapsed": false,
     "input": [],
     "language": "python",
     "metadata": {},
     "outputs": []
    }
   ],
   "metadata": {}
  }
 ]
}