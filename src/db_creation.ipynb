{
 "metadata": {
  "name": "",
  "signature": "sha256:d01c4a8a76da8898c9441a9002677f1424ac4c21596e61fad0d7c2ef4f196286"
 },
 "nbformat": 3,
 "nbformat_minor": 0,
 "worksheets": [
  {
   "cells": [
    {
     "cell_type": "code",
     "collapsed": false,
     "input": [
      "import csv\n",
      "import numpy\n",
      "import datetime\n",
      "import pandas as pd\n",
      "import subprocess\n",
      "import psycopg2 as pg\n",
      "from psycopg2.extensions import ISOLATION_LEVEL_AUTOCOMMIT\n",
      "   \n",
      "db = 'cwbdb'    \n",
      "\n",
      "def create_db(dbname, hostname='localhost', pg_admin_db='postgres'):\n",
      "    #create a new postgresql database with postgis extension\n",
      "    conn = pg.connect(host=hostname, database=pg_admin_db)\n",
      "    checkdb_exist_sql = '''select count(datname) from pg_database where datname='%s';''' % dbname\n",
      "    cur = conn.cursor()\n",
      "    cur.execute(checkdb_exist_sql)\n",
      "    result = cur.fetchone()\n",
      "    if result[0] == 0:\n",
      "        # http://initd.org/psycopg/docs/extensions.html?highlight=isolation_level_autocommit\n",
      "        # before create new database, you need to set isolation level autocommit\n",
      "        conn.set_isolation_level(ISOLATION_LEVEL_AUTOCOMMIT)\n",
      "        cur.execute('CREATE DATABASE %s;' % dbname)\n",
      "        cur.close()\n",
      "        conn = pg.connect(host=hostname, database=dbname)\n",
      "        cur = conn.cursor()\n",
      "        cur.execute('CREATE EXTENSION postgis;')\n",
      "        cur.execute('CREATE EXTENSION postgis_topology;')\n",
      "        conn.commit()\n",
      "    else:\n",
      "        print(\"The database %s already exists!\" % dbname)\n",
      "    cur.close()\n",
      "def query_db(dbname, sql, hostname='localhost'):\n",
      "    conn = pg.connect(host=hostname, database=dbname)\n",
      "    cur = conn.cursor()\n",
      "    cur.execute(sql)\n",
      "    result = cur.fetchall()\n",
      "    cur.close()\n",
      "    return(result)\n",
      "# create new table\n",
      "def create_table(db, sql, hostname='localhost'):\n",
      "    try:\n",
      "        conn = pg.connect(host=hostname, database=db)\n",
      "        cur = conn.cursor()\n",
      "        conn.set_isolation_level(ISOLATION_LEVEL_AUTOCOMMIT)\n",
      "        cur.execute(sql)\n",
      "        conn.close()\n",
      "    except:\n",
      "        print(\"Create table error!\")\n",
      "        raise\n",
      "def insert_table(db, insert_sql, hostname='localhost'):\n",
      "    try:\n",
      "        conn = pg.connect(host=hostname, database=db)\n",
      "        cur = conn.cursor()\n",
      "        cur.execute(insert_sql)\n",
      "        conn.commit()\n",
      "        conn.close() \n",
      "    except:\n",
      "        print(\"Insert data into table error!\")\n",
      "        raise\n",
      "\n",
      "def split_rdate(db, new_table, orig_tab, hostname='localhost'):\n",
      "    split_sql = '''\n",
      "    CREATE TABLE %s AS (\n",
      "    SELECT\n",
      "        stn_code,\n",
      "        substring(cast(rdate as text) from 1 for 4)::integer yr,\n",
      "        substring(cast(rdate as text) from 5 for 2)::integer mm,\n",
      "        substring(cast(rdate as text) from 7 for 2)::integer dd,\n",
      "        substring(cast(rdate as text) from 9 for 2)::integer-1 hr,\n",
      "        ps01, tx01, rh01, wd01, wd02, pp01, ss01 \n",
      "    FROM %s); ''' % ( new_table, orig_tab )\n",
      "    conn = pg.connect(host=hostname, database=db)\n",
      "    conn.set_isolation_level(ISOLATION_LEVEL_AUTOCOMMIT)\n",
      "    cur = conn.cursor()\n",
      "    cur.execute(split_sql)\n",
      "    conn.close()\n",
      "    \n"
     ],
     "language": "python",
     "metadata": {},
     "outputs": [],
     "prompt_number": 1
    },
    {
     "cell_type": "code",
     "collapsed": false,
     "input": [
      "# create postgresql database with postgis extension\n",
      "create_db(dbname=db)"
     ],
     "language": "python",
     "metadata": {},
     "outputs": []
    },
    {
     "cell_type": "code",
     "collapsed": false,
     "input": [
      "# create format\n",
      "create_format_sql = '''\n",
      "DROP TABLE IF EXISTS format_cwb;\n",
      "DROP SEQUENCE IF EXISTS format_cwb_seq;\n",
      "CREATE SEQUENCE format_cwb_seq;\n",
      "CREATE TABLE format_cwb (\n",
      "    id int DEFAULT nextval('format_cwb_seq') PRIMARY KEY,\n",
      "    format character varying, -- format type, ex: Format_CWB_H_1\n",
      "    pd_start date, -- start period of format, ex: 1951-01-01\n",
      "    pd_end date, -- end period of format, ex:2008-12-31\n",
      "    item_code character varying, -- item (observation) code \n",
      "    item_detail character varying, -- detail information of item\n",
      "    pos_start int, -- start position \n",
      "    pos_end int -- end position\n",
      "); '''\n",
      "\n",
      "# create basic information of each meteorological station\n",
      "create_meteo_sql = '''\n",
      "DROP TABLE IF EXISTS station_cwb;\n",
      "CREATE TABLE station_cwb (\n",
      "    stn_code character(6) PRIMARY KEY, -- \u6e2c\u7ad9\u4ee3\u78bc\n",
      "    station character(24), -- \u6e2c\u7ad9\u540d\u7a31\n",
      "    elevation float, -- \u6d77\u62d4\u9ad8\u5ea6(m)\n",
      "    x float, -- TWD97 \u7d93\u5ea6\n",
      "    y float -- TWD97 \u7def\u5ea6\n",
      ");'''\n",
      "\n"
     ],
     "language": "python",
     "metadata": {},
     "outputs": [],
     "prompt_number": 2
    },
    {
     "cell_type": "code",
     "collapsed": false,
     "input": [
      "#create_table(db, create_meteo_sql)\n",
      "create_table(db,create_format_sql)"
     ],
     "language": "python",
     "metadata": {},
     "outputs": [],
     "prompt_number": 3
    },
    {
     "cell_type": "code",
     "collapsed": false,
     "input": [
      "try:\n",
      "    format_file = open('info/format_cwb.csv', 'r')\n",
      "    sql_insert = 'INSERT INTO format_cwb (format, pd_start, pd_end, item_code, item_detail, pos_start, pos_end) VALUES ('\n",
      "    conn = pg.connect(host='localhost', database=db)\n",
      "    cur = conn.cursor()\n",
      "    for row in format_file.readlines():\n",
      "        insert = sql_insert+str(row)+');'\n",
      "        cur.execute(insert)\n",
      "    conn.commit()\n",
      "    conn.close()\n",
      "except:\n",
      "    raise"
     ],
     "language": "python",
     "metadata": {},
     "outputs": [],
     "prompt_number": 4
    },
    {
     "cell_type": "code",
     "collapsed": false,
     "input": [
      "# insert station information into station_cwb table\n",
      "conn = pg.connect(host='localhost', database=db)\n",
      "cur = conn.cursor()\n",
      "rfile = open('info/stn_info.csv', 'r')\n",
      "csv_reader = csv.reader(rfile)\n",
      "s1 = 'INSERT INTO station_cwb (stn_code, station, elevation, x, y) VALUES ('\n",
      "for row in csv_reader:\n",
      "    insert = s1+'\\''+row[0]+'\\',\\''+row[1]+'\\','+row[2]+','+row[4]+','+row[6]+');'\n",
      "    cur.execute(insert)\n",
      "conn.commit()\n",
      "conn.close()"
     ],
     "language": "python",
     "metadata": {},
     "outputs": []
    },
    {
     "cell_type": "code",
     "collapsed": false,
     "input": [
      "sql = 'select stn_code from station_cwb_2 where stn_code like \\'C%\\''\n",
      "stn_res = query_db(db, sql)"
     ],
     "language": "python",
     "metadata": {},
     "outputs": []
    },
    {
     "cell_type": "code",
     "collapsed": false,
     "input": [
      "# concatenate hourly data into single file\n",
      "autostn_a1 = []\n",
      "autostn_a2 = []\n",
      "for i in stn_res:\n",
      "    # type A1\n",
      "    cp1 = '''cat CWB_A_%s_200[0-8]*.txt CWB_A_%s_20090[1-9].txt CWB_A_%s_200910.txt > ../../../data/type_a/CWB_A1_%s.txt'''% (i[0], i[0], i[0], i[0])\n",
      "    cp2 = '''cat CWB_A_%s_20091[1-2].txt CWB_A_%s_201*.txt > ../../../data/type_a/CWB_A2_%s.txt''' % (i[0], i[0], i[0])\n",
      "    autostn_a1.append(cp1)\n",
      "    autostn_a2.append(cp2)\n",
      "autostn_cat_f1 = open('script/autostn_list_cat.sh', 'w')\n",
      "autostn_cat_f2 = open('script/autostn_list_cat2.sh', 'w')\n",
      "for item in autostn_a1:\n",
      "  autostn_cat_f1.write(\"%s\\n\" % item)\n",
      "for item in autostn_a2:\n",
      "  autostn_cat_f2.write(\"%s\\n\" % item)"
     ],
     "language": "python",
     "metadata": {},
     "outputs": []
    },
    {
     "cell_type": "code",
     "collapsed": false,
     "input": [
      "query_stn_code = '''\n",
      "select stn_code from station_cwb where stn_code not like '4%';'''\n",
      "stn = query_db(db, query_stn_code)\n",
      "# create automatic recording meteorological station\n",
      "for i in range(0, len(stn)):\n",
      "    create_auto_stn_sql = '''\n",
      "    DROP TABLE IF EXISTS stn_auto_%s;\n",
      "--    CREATE TABLE stn_auto_%s(\n",
      "--        stn_code character varying,\n",
      "--        rdate numeric,\n",
      "--        ps01 float,\n",
      "--        tx01 float,\n",
      "--        wd01 float,\n",
      "--        wd02 float,\n",
      "--        pp01 float,\n",
      "--        ss01 float\n",
      "--    );\n",
      "    ''' % (stn[i][0], stn[i][0])\n",
      "    create_table(db, create_auto_stn_sql)"
     ],
     "language": "python",
     "metadata": {},
     "outputs": []
    },
    {
     "cell_type": "code",
     "collapsed": false,
     "input": [
      "list_inputf_sql = '''SELECT stn_code from info_a_1_list;'''\n",
      "input_stn = query_db(db, list_inputf_sql)\n",
      "input_stn"
     ],
     "language": "python",
     "metadata": {},
     "outputs": []
    },
    {
     "cell_type": "code",
     "collapsed": false,
     "input": [
      "list_inputf_sql = '''SELECT stn_code from info_a_1_list;'''\n",
      "input_stn = query_db(db, list_inputf_sql)\n",
      "conn = pg.connect(host='localhost', database=db)\n",
      "cur = conn.cursor()\n",
      "for i in range(0,len(input_stn)):\n",
      "    stn_name = input_stn[i][0].lower()\n",
      "    out_stn_file = '/tmp/stn_auto_'+stn_name+'.csv'\n",
      "    # find the column specs\n",
      "    tab_width_sql = '''select pos_start,pos_end from format_cwb where format='Format_CWB_A_1';'''\n",
      "    tab_width = query_db(db, tab_width_sql)\n",
      "    tab_len = len(tab_width)\n",
      "    # dirty hack of date and hour column\n",
      "    #date_list = (tab_width[1][0]-1,tab_width[4][1])\n",
      "    #hr_list = (tab_width[4][0]-1,tab_width[4][1])\n",
      "    #ncolspec = [tab_width[0], (7,17)]#, hr_list]\n",
      "    #for row in range(5,tab_len):\n",
      "    #    ncolspec.append(tab_width[row])\n",
      "    ncolspec = [(0, 6), (7, 17), (18, 24), (25, 31), (32, 38), (39, 45), (46, 52), (53, 59)]\n",
      "    # open raw data and use read_fwf to read and parse date\n",
      "    stn_data_file = open('concat_a/CWB_A_%s_1.txt' % stn_name.upper(), 'r')\n",
      "    #pd.read_fwf(stn_data_file, colspecs=ncolspec, header=None, infer_datetime_format=True, parse_dates=[1], na_values='-9999')\n",
      "    df = pd.read_fwf(stn_data_file, colspecs=ncolspec, header=None, na_values='-9999')\n",
      "\n",
      "    df.to_csv(out_stn_file, index=False, convert_datetime64=False , header=False)\n",
      "    copy_sql = '''COPY %s FROM '%s' WITH CSV DELIMITER ',';\n",
      "    ''' % ( 'stn_auto_'+stn_name, out_stn_file )\n",
      "    cur.execute(copy_sql)\n",
      "    conn.commit()\n",
      "    print(stn_name)\n",
      "conn.close()"
     ],
     "language": "python",
     "metadata": {},
     "outputs": []
    },
    {
     "cell_type": "code",
     "collapsed": false,
     "input": [
      "ncolspec = [(0, 6), (7, 17), (18, 24), (25, 31), (32, 38), (39, 45), (46, 52), (53, 59)]\n",
      "stn_a1_data = open('data/CWB_A1_all.txt', 'r')\n",
      "a1_df = pd.read_fwf(stn_a1_data, colspecs=ncolspec, header=None, na_values='-9999')\n",
      "a1_df.to_csv('data/CWB_A1_all_parsed.csv', index=False, header=False)"
     ],
     "language": "python",
     "metadata": {},
     "outputs": []
    },
    {
     "cell_type": "code",
     "collapsed": false,
     "input": [],
     "language": "python",
     "metadata": {},
     "outputs": []
    },
    {
     "cell_type": "code",
     "collapsed": false,
     "input": [],
     "language": "python",
     "metadata": {},
     "outputs": []
    },
    {
     "cell_type": "code",
     "collapsed": false,
     "input": [],
     "language": "python",
     "metadata": {},
     "outputs": []
    },
    {
     "cell_type": "markdown",
     "metadata": {},
     "source": [
      "##\u91cd\u65b0\u6574\u7406\u6e2c\u7ad9\u8868\u683c\uff0c\u628a\u6642\u9593\u6b04\u4f4d(rdate) \u5206\u5272\u6210\u5e74\u3001\u6708\u3001\u65e5\u3001\u6642##\n",
      "\u628a\u539f\u672c\u7684\u6642\u9593\u6e1b\u4e00(ex: 24 => 24-1 = 23\uff09"
     ]
    },
    {
     "cell_type": "code",
     "collapsed": false,
     "input": [
      "split_rdate('cwbdb', 'stn_auto_r', 'stn_auto')"
     ],
     "language": "python",
     "metadata": {},
     "outputs": [],
     "prompt_number": 5
    },
    {
     "cell_type": "code",
     "collapsed": false,
     "input": [],
     "language": "python",
     "metadata": {},
     "outputs": [
      {
       "output_type": "stream",
       "stream": "stdout",
       "text": [
        "CPU times: user 7 \u00b5s, sys: 1 \u00b5s, total: 8 \u00b5s\n",
        "Wall time: 39.8 \u00b5s\n"
       ]
      }
     ],
     "prompt_number": 4
    },
    {
     "cell_type": "code",
     "collapsed": false,
     "input": [],
     "language": "python",
     "metadata": {},
     "outputs": []
    }
   ],
   "metadata": {}
  }
 ]
}